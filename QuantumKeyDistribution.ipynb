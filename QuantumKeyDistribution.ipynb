{
 "cells": [
  {
   "cell_type": "code",
   "execution_count": 1,
   "metadata": {},
   "outputs": [],
   "source": [
    "from qiskit import QuantumCircuit, Aer, execute\n",
    "from qiskit.tools.visualization import plot_histogram, plot_bloch_multivector\n",
    "import numpy as np\n",
    "from numpy.random import randint\n",
    "import matplotlib"
   ]
  },
  {
   "cell_type": "markdown",
   "metadata": {},
   "source": [
    "# Necessary Functions"
   ]
  },
  {
   "cell_type": "code",
   "execution_count": 2,
   "metadata": {},
   "outputs": [],
   "source": [
    "def encode_message(bits, bases):\n",
    "    \"\"\"\n",
    "    Encodes 'bits' in 'bases'.\n",
    "    n = length of the sequence\n",
    "    \"\"\"\n",
    "    message = []\n",
    "    for i in range(len(bits)):\n",
    "        qc = QuantumCircuit(1,1)\n",
    "        if bases[i] == 0:\n",
    "            if bits[i] == 0:\n",
    "                pass\n",
    "            else:\n",
    "                qc.x(0)\n",
    "        else:\n",
    "            if bits[i] == 0:\n",
    "                qc.h(0)\n",
    "            else:\n",
    "                qc.x(0)\n",
    "                qc.h(0)\n",
    "        qc.barrier()\n",
    "        message.append(qc)\n",
    "    return message\n",
    "\n",
    "def decode_message(message, bases):\n",
    "    \"\"\"\n",
    "    Decodes 'message' in the given set of 'bases'.\n",
    "    \"\"\"\n",
    "    simulator = Aer.get_backend('qasm_simulator')\n",
    "    decoded_message = []\n",
    "    for i in range(len(message)):\n",
    "        qc = message[i]\n",
    "        if bases[i] == 0: # Z basis\n",
    "            pass\n",
    "        else: # X basis\n",
    "            qc.h(0)\n",
    "        qc.measure(0,0)\n",
    "        result = execute(qc, backend=simulator, shots=1, memory=True).result()\n",
    "        measured_bit = int(result.get_memory()[0])\n",
    "        decoded_message.append(measured_bit)\n",
    "    return decoded_message\n",
    "\n",
    "def remove_garbage(a_basis, b_basis, bits):\n",
    "    \"\"\"\n",
    "    Compares Alice's and Bob's bases and returns\n",
    "    only those bits that have been decoded correctly.\n",
    "    \"\"\"\n",
    "    good_bits = []\n",
    "    for i in range(len(a_basis)):\n",
    "        if a_basis[i] == b_basis[i]:\n",
    "            good_bits.append(bits[i])\n",
    "    return good_bits\n",
    "\n",
    "def sample_bits(bits, selection):\n",
    "    sample = []\n",
    "    for i in selection:\n",
    "        # use np.mod to make sure the\n",
    "        # bit we sample is always in \n",
    "        # the list range\n",
    "        i = np.mod(i, len(bits))\n",
    "        # pop(i) removes the element of the\n",
    "        # list at index 'i'\n",
    "        sample.append(bits.pop(i))\n",
    "    return sample"
   ]
  },
  {
   "cell_type": "code",
   "execution_count": 7,
   "metadata": {},
   "outputs": [],
   "source": [
    "n = 100 # Number of qubits\n",
    "\n",
    "# Alice generates her random set of bits\n",
    "alice_bits = randint(2, size=n)\n",
    "\n",
    "# Alice encodes her qubits, sends it to Bob\n",
    "alice_bases = randint(2, size=n)\n",
    "message = encode_message(alice_bits, alice_bases)\n",
    "\n",
    "# Eve butting in\n",
    "eve_bases = randint(2, size=n)\n",
    "intercepted_message = decode_message(message, eve_bases)\n",
    "\n",
    "# Bob decodes message with his own set of bases\n",
    "bob_bases = randint(2, size=n)\n",
    "bob_results = decode_message(message, bob_bases)\n",
    "\n",
    "# They compare messages and obtain a key\n",
    "alice_key = remove_garbage(alice_bases, bob_bases, alice_bits)\n",
    "bob_key = remove_garbage(alice_bases, bob_bases, bob_results)\n",
    "\n",
    "# Step 5\n",
    "sample_size = 15\n",
    "bit_selection = randint(n, size=sample_size)\n",
    "\n",
    "bob_sample = sample_bits(bob_key, bit_selection)\n",
    "alice_sample = sample_bits(alice_key, bit_selection)"
   ]
  },
  {
   "cell_type": "code",
   "execution_count": 8,
   "metadata": {},
   "outputs": [
    {
     "name": "stdout",
     "output_type": "stream",
     "text": [
      "Eve's interference was detected.\n"
     ]
    }
   ],
   "source": [
    "if bob_sample != alice_sample:\n",
    "    print(\"Eve's interference was detected.\")\n",
    "else:\n",
    "    print(\"Eve went undetected!\")"
   ]
  },
  {
   "cell_type": "code",
   "execution_count": null,
   "metadata": {},
   "outputs": [],
   "source": []
  }
 ],
 "metadata": {
  "kernelspec": {
   "display_name": "Python 3",
   "language": "python",
   "name": "python3"
  },
  "language_info": {
   "codemirror_mode": {
    "name": "ipython",
    "version": 3
   },
   "file_extension": ".py",
   "mimetype": "text/x-python",
   "name": "python",
   "nbconvert_exporter": "python",
   "pygments_lexer": "ipython3",
   "version": "3.7.4"
  }
 },
 "nbformat": 4,
 "nbformat_minor": 2
}
